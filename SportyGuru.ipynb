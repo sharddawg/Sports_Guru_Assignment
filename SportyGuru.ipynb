{
  "nbformat": 4,
  "nbformat_minor": 0,
  "metadata": {
    "colab": {
      "name": "SportyGuru.ipynb",
      "provenance": [],
      "collapsed_sections": []
    },
    "kernelspec": {
      "name": "python3",
      "display_name": "Python 3"
    },
    "language_info": {
      "name": "python"
    },
    "accelerator": "GPU"
  },
  "cells": [
    {
      "cell_type": "code",
      "metadata": {
        "id": "yPYLsI3nPTNf"
      },
      "source": [
        "import tensorflow as tf\n",
        "import matplotlib.pyplot as plt"
      ],
      "execution_count": 1,
      "outputs": []
    },
    {
      "cell_type": "code",
      "metadata": {
        "id": "CbMZyEvsTdD0"
      },
      "source": [
        "(x_train, y_train), (x_test, y_test) = tf.keras.datasets.cifar10.load_data()\n",
        "assert x_train.shape == (50000, 32, 32, 3)\n",
        "assert x_test.shape == (10000, 32, 32, 3)\n",
        "assert y_train.shape == (50000, 1)\n",
        "assert y_test.shape == (10000, 1)"
      ],
      "execution_count": 2,
      "outputs": []
    },
    {
      "cell_type": "code",
      "metadata": {
        "id": "KHUV5IW6Tg2j"
      },
      "source": [
        "x_train = x_train.astype('float32')\n",
        "x_test = x_test.astype('float32')\n",
        "\n",
        "x_train /= 255\n",
        "x_test /= 255\n",
        "\n",
        "y_train_final = tf.keras.utils.to_categorical(y_train)\n",
        "y_test_final = tf.keras.utils.to_categorical(y_test)"
      ],
      "execution_count": 3,
      "outputs": []
    },
    {
      "cell_type": "code",
      "metadata": {
        "id": "GhjkoIQnTm5e"
      },
      "source": [
        "def NetA(x_train, x_test, y_train_final, y_test_final):\n",
        "\n",
        "  model = tf.keras.models.Sequential()\n",
        "  model.add(tf.keras.layers.Flatten(input_shape=(32, 32, 3)))\n",
        "  model.add(tf.keras.layers.Dense(10))\n",
        "\n",
        "  model.compile(optimizer='rmsprop', loss='categorical_crossentropy', metrics=['accuracy'])\n",
        "\n",
        "  model.summary()\n",
        "\n",
        "  history = model.fit(x_train, y_train_final, epochs = 50, verbose = 1, validation_data = (x_test, y_test_final))\n",
        "\n",
        "  history_test = model.evaluate(x_test, y_test_final)\n",
        "\n",
        "  return [history, history_test]"
      ],
      "execution_count": 4,
      "outputs": []
    },
    {
      "cell_type": "code",
      "metadata": {
        "id": "8BIlz1lCUIAM",
        "colab": {
          "base_uri": "https://localhost:8080/"
        },
        "outputId": "89d87e0e-a0f2-4081-949a-48426309b6dc"
      },
      "source": [
        "NetA_output = NetA(x_train, x_test, y_train_final, y_test_final)"
      ],
      "execution_count": 5,
      "outputs": [
        {
          "output_type": "stream",
          "name": "stdout",
          "text": [
            "Model: \"sequential\"\n",
            "_________________________________________________________________\n",
            " Layer (type)                Output Shape              Param #   \n",
            "=================================================================\n",
            " flatten (Flatten)           (None, 3072)              0         \n",
            "                                                                 \n",
            " dense (Dense)               (None, 10)                30730     \n",
            "                                                                 \n",
            "=================================================================\n",
            "Total params: 30,730\n",
            "Trainable params: 30,730\n",
            "Non-trainable params: 0\n",
            "_________________________________________________________________\n",
            "Epoch 1/50\n",
            "1563/1563 [==============================] - 9s 5ms/step - loss: 7.7842 - accuracy: 0.0520 - val_loss: 8.0558 - val_accuracy: 0.0534\n",
            "Epoch 2/50\n",
            "1563/1563 [==============================] - 7s 4ms/step - loss: 8.0577 - accuracy: 0.0508 - val_loss: 8.0558 - val_accuracy: 0.0534\n",
            "Epoch 3/50\n",
            "1563/1563 [==============================] - 7s 5ms/step - loss: 8.0577 - accuracy: 0.0508 - val_loss: 8.0558 - val_accuracy: 0.0534\n",
            "Epoch 4/50\n",
            "1563/1563 [==============================] - 7s 5ms/step - loss: 8.0577 - accuracy: 0.0508 - val_loss: 8.0558 - val_accuracy: 0.0534\n",
            "Epoch 5/50\n",
            "1563/1563 [==============================] - 7s 4ms/step - loss: 8.0577 - accuracy: 0.0508 - val_loss: 8.0558 - val_accuracy: 0.0534\n",
            "Epoch 6/50\n",
            "1563/1563 [==============================] - 7s 4ms/step - loss: 8.0577 - accuracy: 0.0508 - val_loss: 8.0558 - val_accuracy: 0.0534\n",
            "Epoch 7/50\n",
            "1563/1563 [==============================] - 7s 4ms/step - loss: 8.0577 - accuracy: 0.0508 - val_loss: 8.0558 - val_accuracy: 0.0534\n",
            "Epoch 8/50\n",
            "1563/1563 [==============================] - 7s 5ms/step - loss: 8.0577 - accuracy: 0.0508 - val_loss: 8.0558 - val_accuracy: 0.0534\n",
            "Epoch 9/50\n",
            "1563/1563 [==============================] - 7s 4ms/step - loss: 8.0577 - accuracy: 0.0508 - val_loss: 8.0558 - val_accuracy: 0.0534\n",
            "Epoch 10/50\n",
            "1563/1563 [==============================] - 7s 5ms/step - loss: 8.0577 - accuracy: 0.0508 - val_loss: 8.0558 - val_accuracy: 0.0534\n",
            "Epoch 11/50\n",
            "1563/1563 [==============================] - 7s 4ms/step - loss: 8.0577 - accuracy: 0.0508 - val_loss: 8.0558 - val_accuracy: 0.0534\n",
            "Epoch 12/50\n",
            "1563/1563 [==============================] - 8s 5ms/step - loss: 8.0577 - accuracy: 0.0508 - val_loss: 8.0558 - val_accuracy: 0.0534\n",
            "Epoch 13/50\n",
            "1563/1563 [==============================] - 7s 4ms/step - loss: 8.0577 - accuracy: 0.0508 - val_loss: 8.0558 - val_accuracy: 0.0534\n",
            "Epoch 14/50\n",
            "1563/1563 [==============================] - 8s 5ms/step - loss: 8.0577 - accuracy: 0.0508 - val_loss: 8.0558 - val_accuracy: 0.0534\n",
            "Epoch 15/50\n",
            "1563/1563 [==============================] - 7s 5ms/step - loss: 8.0577 - accuracy: 0.0508 - val_loss: 8.0558 - val_accuracy: 0.0534\n",
            "Epoch 16/50\n",
            "1563/1563 [==============================] - 8s 5ms/step - loss: 8.0577 - accuracy: 0.0508 - val_loss: 8.0558 - val_accuracy: 0.0534\n",
            "Epoch 17/50\n",
            "1563/1563 [==============================] - 7s 5ms/step - loss: 8.0577 - accuracy: 0.0508 - val_loss: 8.0558 - val_accuracy: 0.0534\n",
            "Epoch 18/50\n",
            "1563/1563 [==============================] - 7s 4ms/step - loss: 8.0577 - accuracy: 0.0508 - val_loss: 8.0558 - val_accuracy: 0.0534\n",
            "Epoch 19/50\n",
            "1563/1563 [==============================] - 7s 5ms/step - loss: 8.0577 - accuracy: 0.0508 - val_loss: 8.0558 - val_accuracy: 0.0534\n",
            "Epoch 20/50\n",
            "1563/1563 [==============================] - 7s 4ms/step - loss: 8.0577 - accuracy: 0.0508 - val_loss: 8.0558 - val_accuracy: 0.0534\n",
            "Epoch 21/50\n",
            "1563/1563 [==============================] - 7s 4ms/step - loss: 8.0577 - accuracy: 0.0508 - val_loss: 8.0558 - val_accuracy: 0.0534\n",
            "Epoch 22/50\n",
            "1563/1563 [==============================] - 7s 5ms/step - loss: 8.0577 - accuracy: 0.0508 - val_loss: 8.0558 - val_accuracy: 0.0534\n",
            "Epoch 23/50\n",
            "1563/1563 [==============================] - 8s 5ms/step - loss: 8.0577 - accuracy: 0.0508 - val_loss: 8.0558 - val_accuracy: 0.0534\n",
            "Epoch 24/50\n",
            "1563/1563 [==============================] - 7s 4ms/step - loss: 8.0577 - accuracy: 0.0508 - val_loss: 8.0558 - val_accuracy: 0.0534\n",
            "Epoch 25/50\n",
            "1563/1563 [==============================] - 7s 4ms/step - loss: 8.0577 - accuracy: 0.0508 - val_loss: 8.0558 - val_accuracy: 0.0534\n",
            "Epoch 26/50\n",
            "1563/1563 [==============================] - 7s 5ms/step - loss: 8.0577 - accuracy: 0.0508 - val_loss: 8.0558 - val_accuracy: 0.0534\n",
            "Epoch 27/50\n",
            "1563/1563 [==============================] - 7s 4ms/step - loss: 8.0577 - accuracy: 0.0508 - val_loss: 8.0558 - val_accuracy: 0.0534\n",
            "Epoch 28/50\n",
            "1563/1563 [==============================] - 7s 4ms/step - loss: 8.0577 - accuracy: 0.0508 - val_loss: 8.0558 - val_accuracy: 0.0534\n",
            "Epoch 29/50\n",
            "1563/1563 [==============================] - 8s 5ms/step - loss: 8.0577 - accuracy: 0.0508 - val_loss: 8.0558 - val_accuracy: 0.0534\n",
            "Epoch 30/50\n",
            "1563/1563 [==============================] - 7s 5ms/step - loss: 8.0577 - accuracy: 0.0508 - val_loss: 8.0558 - val_accuracy: 0.0534\n",
            "Epoch 31/50\n",
            "1563/1563 [==============================] - 7s 4ms/step - loss: 8.0577 - accuracy: 0.0508 - val_loss: 8.0558 - val_accuracy: 0.0534\n",
            "Epoch 32/50\n",
            "1563/1563 [==============================] - 7s 4ms/step - loss: 8.0577 - accuracy: 0.0508 - val_loss: 8.0558 - val_accuracy: 0.0534\n",
            "Epoch 33/50\n",
            "1563/1563 [==============================] - 8s 5ms/step - loss: 8.0577 - accuracy: 0.0508 - val_loss: 8.0558 - val_accuracy: 0.0534\n",
            "Epoch 34/50\n",
            "1563/1563 [==============================] - 7s 5ms/step - loss: 8.0577 - accuracy: 0.0508 - val_loss: 8.0558 - val_accuracy: 0.0534\n",
            "Epoch 35/50\n",
            "1563/1563 [==============================] - 7s 5ms/step - loss: 8.0577 - accuracy: 0.0508 - val_loss: 8.0558 - val_accuracy: 0.0534\n",
            "Epoch 36/50\n",
            "1563/1563 [==============================] - 7s 4ms/step - loss: 8.0577 - accuracy: 0.0508 - val_loss: 8.0558 - val_accuracy: 0.0534\n",
            "Epoch 37/50\n",
            "1563/1563 [==============================] - 7s 4ms/step - loss: 8.0577 - accuracy: 0.0508 - val_loss: 8.0558 - val_accuracy: 0.0534\n",
            "Epoch 38/50\n",
            "1563/1563 [==============================] - 7s 5ms/step - loss: 8.0577 - accuracy: 0.0508 - val_loss: 8.0558 - val_accuracy: 0.0534\n",
            "Epoch 39/50\n",
            "1563/1563 [==============================] - 7s 5ms/step - loss: 8.0577 - accuracy: 0.0508 - val_loss: 8.0558 - val_accuracy: 0.0534\n",
            "Epoch 40/50\n",
            "1563/1563 [==============================] - 8s 5ms/step - loss: 8.0577 - accuracy: 0.0508 - val_loss: 8.0558 - val_accuracy: 0.0534\n",
            "Epoch 41/50\n",
            "1563/1563 [==============================] - 7s 5ms/step - loss: 8.0577 - accuracy: 0.0508 - val_loss: 8.0558 - val_accuracy: 0.0534\n",
            "Epoch 42/50\n",
            "1563/1563 [==============================] - 8s 5ms/step - loss: 8.0577 - accuracy: 0.0508 - val_loss: 8.0558 - val_accuracy: 0.0534\n",
            "Epoch 43/50\n",
            "1563/1563 [==============================] - 8s 5ms/step - loss: 8.0577 - accuracy: 0.0508 - val_loss: 8.0558 - val_accuracy: 0.0534\n",
            "Epoch 44/50\n",
            "1563/1563 [==============================] - 7s 5ms/step - loss: 8.0577 - accuracy: 0.0508 - val_loss: 8.0558 - val_accuracy: 0.0534\n",
            "Epoch 45/50\n",
            "1563/1563 [==============================] - 8s 5ms/step - loss: 8.0577 - accuracy: 0.0508 - val_loss: 8.0558 - val_accuracy: 0.0534\n",
            "Epoch 46/50\n",
            "1563/1563 [==============================] - 7s 4ms/step - loss: 8.0577 - accuracy: 0.0508 - val_loss: 8.0558 - val_accuracy: 0.0534\n",
            "Epoch 47/50\n",
            "1563/1563 [==============================] - 8s 5ms/step - loss: 8.0577 - accuracy: 0.0508 - val_loss: 8.0558 - val_accuracy: 0.0534\n",
            "Epoch 48/50\n",
            "1563/1563 [==============================] - 7s 4ms/step - loss: 8.0577 - accuracy: 0.0508 - val_loss: 8.0558 - val_accuracy: 0.0534\n",
            "Epoch 49/50\n",
            "1563/1563 [==============================] - 7s 5ms/step - loss: 8.0577 - accuracy: 0.0508 - val_loss: 8.0558 - val_accuracy: 0.0534\n",
            "Epoch 50/50\n",
            "1563/1563 [==============================] - 8s 5ms/step - loss: 8.0577 - accuracy: 0.0508 - val_loss: 8.0558 - val_accuracy: 0.0534\n",
            "313/313 [==============================] - 1s 3ms/step - loss: 8.0558 - accuracy: 0.0534\n"
          ]
        }
      ]
    },
    {
      "cell_type": "code",
      "metadata": {
        "id": "RUD8fyn5WMZA"
      },
      "source": [
        "def NetB(x_train, x_test, y_train_final, y_test_final):\n",
        "\n",
        "  model = tf.keras.models.Sequential()\n",
        "  model.add(tf.keras.layers.Flatten(input_shape=(32, 32, 3)))\n",
        "  model.add(tf.keras.layers.Dense(300, activation = \"relu\"))\n",
        "  model.add(tf.keras.layers.Dense(10))\n",
        "\n",
        "  model.compile(optimizer='rmsprop', loss='categorical_crossentropy', metrics=['accuracy'])\n",
        "\n",
        "  model.summary()\n",
        "\n",
        "  history = model.fit(x_train, y_train_final, epochs = 50, verbose = 1, validation_data = (x_test, y_test_final))\n",
        "\n",
        "  history_test = model.evaluate(x_test, y_test_final)\n",
        "\n",
        "  return [history, history_test]"
      ],
      "execution_count": 6,
      "outputs": []
    },
    {
      "cell_type": "code",
      "metadata": {
        "id": "LROJUOnOXrQP",
        "colab": {
          "base_uri": "https://localhost:8080/"
        },
        "outputId": "a8b12033-d5ae-4370-bf66-8129ef41d9c0"
      },
      "source": [
        "NetB_output = NetB(x_train, x_test, y_train_final, y_test_final)"
      ],
      "execution_count": 7,
      "outputs": [
        {
          "output_type": "stream",
          "name": "stdout",
          "text": [
            "Model: \"sequential_1\"\n",
            "_________________________________________________________________\n",
            " Layer (type)                Output Shape              Param #   \n",
            "=================================================================\n",
            " flatten_1 (Flatten)         (None, 3072)              0         \n",
            "                                                                 \n",
            " dense_1 (Dense)             (None, 300)               921900    \n",
            "                                                                 \n",
            " dense_2 (Dense)             (None, 10)                3010      \n",
            "                                                                 \n",
            "=================================================================\n",
            "Total params: 924,910\n",
            "Trainable params: 924,910\n",
            "Non-trainable params: 0\n",
            "_________________________________________________________________\n",
            "Epoch 1/50\n",
            "1563/1563 [==============================] - 10s 6ms/step - loss: 11.2417 - accuracy: 0.1008 - val_loss: 11.2827 - val_accuracy: 0.1000\n",
            "Epoch 2/50\n",
            "1563/1563 [==============================] - 8s 5ms/step - loss: 11.2826 - accuracy: 0.1000 - val_loss: 11.2827 - val_accuracy: 0.1000\n",
            "Epoch 3/50\n",
            "1563/1563 [==============================] - 8s 5ms/step - loss: 11.2826 - accuracy: 0.1000 - val_loss: 11.2827 - val_accuracy: 0.1000\n",
            "Epoch 4/50\n",
            "1563/1563 [==============================] - 9s 6ms/step - loss: 11.2827 - accuracy: 0.1000 - val_loss: 11.2827 - val_accuracy: 0.1000\n",
            "Epoch 5/50\n",
            "1563/1563 [==============================] - 8s 5ms/step - loss: 11.2827 - accuracy: 0.1000 - val_loss: 11.2827 - val_accuracy: 0.1000\n",
            "Epoch 6/50\n",
            "1563/1563 [==============================] - 8s 5ms/step - loss: 11.2827 - accuracy: 0.1000 - val_loss: 11.2827 - val_accuracy: 0.1000\n",
            "Epoch 7/50\n",
            "1563/1563 [==============================] - 8s 5ms/step - loss: 11.2826 - accuracy: 0.1000 - val_loss: 11.2827 - val_accuracy: 0.1000\n",
            "Epoch 8/50\n",
            "1563/1563 [==============================] - 8s 5ms/step - loss: 11.2827 - accuracy: 0.1000 - val_loss: 11.2827 - val_accuracy: 0.1000\n",
            "Epoch 9/50\n",
            "1563/1563 [==============================] - 8s 5ms/step - loss: 11.2826 - accuracy: 0.1000 - val_loss: 11.2827 - val_accuracy: 0.1000\n",
            "Epoch 10/50\n",
            "1563/1563 [==============================] - 8s 5ms/step - loss: 11.2827 - accuracy: 0.1000 - val_loss: 11.2827 - val_accuracy: 0.1000\n",
            "Epoch 11/50\n",
            "1563/1563 [==============================] - 8s 5ms/step - loss: 11.2826 - accuracy: 0.1000 - val_loss: 11.2827 - val_accuracy: 0.1000\n",
            "Epoch 12/50\n",
            "1563/1563 [==============================] - 8s 5ms/step - loss: 11.2827 - accuracy: 0.1000 - val_loss: 11.2827 - val_accuracy: 0.1000\n",
            "Epoch 13/50\n",
            "1563/1563 [==============================] - 9s 5ms/step - loss: 11.2827 - accuracy: 0.1000 - val_loss: 11.2827 - val_accuracy: 0.1000\n",
            "Epoch 14/50\n",
            "1563/1563 [==============================] - 9s 6ms/step - loss: 11.2827 - accuracy: 0.1000 - val_loss: 11.2827 - val_accuracy: 0.1000\n",
            "Epoch 15/50\n",
            "1563/1563 [==============================] - 8s 5ms/step - loss: 11.2826 - accuracy: 0.1000 - val_loss: 11.2827 - val_accuracy: 0.1000\n",
            "Epoch 16/50\n",
            "1563/1563 [==============================] - 9s 6ms/step - loss: 11.2827 - accuracy: 0.1000 - val_loss: 11.2827 - val_accuracy: 0.1000\n",
            "Epoch 17/50\n",
            "1563/1563 [==============================] - 8s 5ms/step - loss: 11.2827 - accuracy: 0.1000 - val_loss: 11.2827 - val_accuracy: 0.1000\n",
            "Epoch 18/50\n",
            "1563/1563 [==============================] - 8s 5ms/step - loss: 11.2827 - accuracy: 0.1000 - val_loss: 11.2827 - val_accuracy: 0.1000\n",
            "Epoch 19/50\n",
            "1563/1563 [==============================] - 9s 6ms/step - loss: 11.2826 - accuracy: 0.1000 - val_loss: 11.2827 - val_accuracy: 0.1000\n",
            "Epoch 20/50\n",
            "1563/1563 [==============================] - 8s 5ms/step - loss: 11.2827 - accuracy: 0.1000 - val_loss: 11.2827 - val_accuracy: 0.1000\n",
            "Epoch 21/50\n",
            "1563/1563 [==============================] - 8s 5ms/step - loss: 11.2826 - accuracy: 0.1000 - val_loss: 11.2827 - val_accuracy: 0.1000\n",
            "Epoch 22/50\n",
            "1563/1563 [==============================] - 9s 6ms/step - loss: 11.2827 - accuracy: 0.1000 - val_loss: 11.2827 - val_accuracy: 0.1000\n",
            "Epoch 23/50\n",
            "1563/1563 [==============================] - 9s 6ms/step - loss: 11.2827 - accuracy: 0.1000 - val_loss: 11.2827 - val_accuracy: 0.1000\n",
            "Epoch 24/50\n",
            "1563/1563 [==============================] - 9s 6ms/step - loss: 11.2827 - accuracy: 0.1000 - val_loss: 11.2827 - val_accuracy: 0.1000\n",
            "Epoch 25/50\n",
            "1563/1563 [==============================] - 8s 5ms/step - loss: 11.2826 - accuracy: 0.1000 - val_loss: 11.2827 - val_accuracy: 0.1000\n",
            "Epoch 26/50\n",
            "1563/1563 [==============================] - 8s 5ms/step - loss: 11.2827 - accuracy: 0.1000 - val_loss: 11.2827 - val_accuracy: 0.1000\n",
            "Epoch 27/50\n",
            "1563/1563 [==============================] - 9s 6ms/step - loss: 11.2827 - accuracy: 0.1000 - val_loss: 11.2827 - val_accuracy: 0.1000\n",
            "Epoch 28/50\n",
            "1563/1563 [==============================] - 9s 6ms/step - loss: 11.2827 - accuracy: 0.1000 - val_loss: 11.2827 - val_accuracy: 0.1000\n",
            "Epoch 29/50\n",
            "1563/1563 [==============================] - 9s 6ms/step - loss: 11.2827 - accuracy: 0.1000 - val_loss: 11.2827 - val_accuracy: 0.1000\n",
            "Epoch 30/50\n",
            "1563/1563 [==============================] - 9s 5ms/step - loss: 11.2826 - accuracy: 0.1000 - val_loss: 11.2827 - val_accuracy: 0.1000\n",
            "Epoch 31/50\n",
            "1563/1563 [==============================] - 9s 5ms/step - loss: 11.2826 - accuracy: 0.1000 - val_loss: 11.2827 - val_accuracy: 0.1000\n",
            "Epoch 32/50\n",
            "1563/1563 [==============================] - 9s 5ms/step - loss: 11.2827 - accuracy: 0.1000 - val_loss: 11.2827 - val_accuracy: 0.1000\n",
            "Epoch 33/50\n",
            "1563/1563 [==============================] - 9s 5ms/step - loss: 11.2826 - accuracy: 0.1000 - val_loss: 11.2827 - val_accuracy: 0.1000\n",
            "Epoch 34/50\n",
            "1563/1563 [==============================] - 9s 5ms/step - loss: 11.2827 - accuracy: 0.1000 - val_loss: 11.2827 - val_accuracy: 0.1000\n",
            "Epoch 35/50\n",
            "1563/1563 [==============================] - 9s 5ms/step - loss: 11.2826 - accuracy: 0.1000 - val_loss: 11.2827 - val_accuracy: 0.1000\n",
            "Epoch 36/50\n",
            "1563/1563 [==============================] - 9s 6ms/step - loss: 11.2827 - accuracy: 0.1000 - val_loss: 11.2827 - val_accuracy: 0.1000\n",
            "Epoch 37/50\n",
            "1563/1563 [==============================] - 8s 5ms/step - loss: 11.2827 - accuracy: 0.1000 - val_loss: 11.2827 - val_accuracy: 0.1000\n",
            "Epoch 38/50\n",
            "1563/1563 [==============================] - 9s 6ms/step - loss: 11.2827 - accuracy: 0.1000 - val_loss: 11.2827 - val_accuracy: 0.1000\n",
            "Epoch 39/50\n",
            "1563/1563 [==============================] - 9s 6ms/step - loss: 11.2827 - accuracy: 0.1000 - val_loss: 11.2827 - val_accuracy: 0.1000\n",
            "Epoch 40/50\n",
            "1563/1563 [==============================] - 9s 5ms/step - loss: 11.2827 - accuracy: 0.1000 - val_loss: 11.2827 - val_accuracy: 0.1000\n",
            "Epoch 41/50\n",
            "1563/1563 [==============================] - 9s 5ms/step - loss: 11.2827 - accuracy: 0.1000 - val_loss: 11.2827 - val_accuracy: 0.1000\n",
            "Epoch 42/50\n",
            "1563/1563 [==============================] - 9s 6ms/step - loss: 11.2827 - accuracy: 0.1000 - val_loss: 11.2827 - val_accuracy: 0.1000\n",
            "Epoch 43/50\n",
            "1563/1563 [==============================] - 9s 6ms/step - loss: 11.2826 - accuracy: 0.1000 - val_loss: 11.2827 - val_accuracy: 0.1000\n",
            "Epoch 44/50\n",
            "1563/1563 [==============================] - 9s 6ms/step - loss: 11.2826 - accuracy: 0.1000 - val_loss: 11.2827 - val_accuracy: 0.1000\n",
            "Epoch 45/50\n",
            "1563/1563 [==============================] - 9s 6ms/step - loss: 11.2826 - accuracy: 0.1000 - val_loss: 11.2827 - val_accuracy: 0.1000\n",
            "Epoch 46/50\n",
            "1563/1563 [==============================] - 9s 5ms/step - loss: 11.2827 - accuracy: 0.1000 - val_loss: 11.2827 - val_accuracy: 0.1000\n",
            "Epoch 47/50\n",
            "1563/1563 [==============================] - 9s 6ms/step - loss: 11.2826 - accuracy: 0.1000 - val_loss: 11.2827 - val_accuracy: 0.1000\n",
            "Epoch 48/50\n",
            "1563/1563 [==============================] - 9s 6ms/step - loss: 11.2827 - accuracy: 0.1000 - val_loss: 11.2827 - val_accuracy: 0.1000\n",
            "Epoch 49/50\n",
            "1563/1563 [==============================] - 8s 5ms/step - loss: 11.2826 - accuracy: 0.1000 - val_loss: 11.2827 - val_accuracy: 0.1000\n",
            "Epoch 50/50\n",
            "1563/1563 [==============================] - 9s 6ms/step - loss: 11.2826 - accuracy: 0.1000 - val_loss: 11.2827 - val_accuracy: 0.1000\n",
            "313/313 [==============================] - 1s 3ms/step - loss: 11.2827 - accuracy: 0.1000\n"
          ]
        }
      ]
    },
    {
      "cell_type": "code",
      "metadata": {
        "id": "U3kR07qNczsR"
      },
      "source": [
        "def NetC(x_train, x_test, y_train_final, y_test_final):\n",
        "\n",
        "  model = tf.keras.models.Sequential()\n",
        "  model.add(tf.keras.layers.Conv2D(25, (5, 5), activation='relu', input_shape=(32, 32, 3)))\n",
        "  model.add(tf.keras.layers.MaxPool2D(pool_size = (2,2), strides = (2, 2)))\n",
        "  model.add(tf.keras.layers.Flatten())\n",
        "  model.add(tf.keras.layers.Dense(10))\n",
        "\n",
        "  model.compile(optimizer='rmsprop', loss='categorical_crossentropy', metrics=['accuracy'])\n",
        "\n",
        "  model.summary()\n",
        "\n",
        "  history = model.fit(x_train, y_train_final, epochs = 50, verbose = 1, validation_data = (x_test, y_test_final))\n",
        "\n",
        "  history_test = model.evaluate(x_test, y_test_final)\n",
        "\n",
        "  return [history, history_test]"
      ],
      "execution_count": 10,
      "outputs": []
    },
    {
      "cell_type": "code",
      "metadata": {
        "id": "3yur6YNYfdVH",
        "colab": {
          "base_uri": "https://localhost:8080/"
        },
        "outputId": "3a439775-8639-4bc1-a402-d712a5aa1c18"
      },
      "source": [
        "NetC_output = NetC(x_train, x_test, y_train_final, y_test_final)"
      ],
      "execution_count": 11,
      "outputs": [
        {
          "output_type": "stream",
          "name": "stdout",
          "text": [
            "Model: \"sequential_2\"\n",
            "_________________________________________________________________\n",
            " Layer (type)                Output Shape              Param #   \n",
            "=================================================================\n",
            " conv2d (Conv2D)             (None, 28, 28, 25)        1900      \n",
            "                                                                 \n",
            " max_pooling2d (MaxPooling2D  (None, 14, 14, 25)       0         \n",
            " )                                                               \n",
            "                                                                 \n",
            " flatten_2 (Flatten)         (None, 4900)              0         \n",
            "                                                                 \n",
            " dense_3 (Dense)             (None, 10)                49010     \n",
            "                                                                 \n",
            "=================================================================\n",
            "Total params: 50,910\n",
            "Trainable params: 50,910\n",
            "Non-trainable params: 0\n",
            "_________________________________________________________________\n",
            "Epoch 1/50\n",
            "1563/1563 [==============================] - 37s 6ms/step - loss: 12.7150 - accuracy: 0.1027 - val_loss: 12.8896 - val_accuracy: 0.1029\n",
            "Epoch 2/50\n",
            "1563/1563 [==============================] - 10s 6ms/step - loss: 12.8873 - accuracy: 0.1023 - val_loss: 12.8896 - val_accuracy: 0.1029\n",
            "Epoch 3/50\n",
            "1563/1563 [==============================] - 9s 6ms/step - loss: 12.8874 - accuracy: 0.1023 - val_loss: 12.8896 - val_accuracy: 0.1029\n",
            "Epoch 4/50\n",
            "1563/1563 [==============================] - 9s 6ms/step - loss: 12.8873 - accuracy: 0.1023 - val_loss: 12.8896 - val_accuracy: 0.1029\n",
            "Epoch 5/50\n",
            "1563/1563 [==============================] - 9s 6ms/step - loss: 12.8874 - accuracy: 0.1023 - val_loss: 12.8896 - val_accuracy: 0.1029\n",
            "Epoch 6/50\n",
            "1563/1563 [==============================] - 9s 6ms/step - loss: 12.8873 - accuracy: 0.1023 - val_loss: 12.8896 - val_accuracy: 0.1029\n",
            "Epoch 7/50\n",
            "1563/1563 [==============================] - 9s 6ms/step - loss: 12.8873 - accuracy: 0.1023 - val_loss: 12.8896 - val_accuracy: 0.1029\n",
            "Epoch 8/50\n",
            "1563/1563 [==============================] - 9s 6ms/step - loss: 12.8873 - accuracy: 0.1023 - val_loss: 12.8896 - val_accuracy: 0.1029\n",
            "Epoch 9/50\n",
            "1563/1563 [==============================] - 10s 6ms/step - loss: 12.8873 - accuracy: 0.1023 - val_loss: 12.8896 - val_accuracy: 0.1029\n",
            "Epoch 10/50\n",
            "1563/1563 [==============================] - 9s 6ms/step - loss: 12.8874 - accuracy: 0.1023 - val_loss: 12.8896 - val_accuracy: 0.1029\n",
            "Epoch 11/50\n",
            "1563/1563 [==============================] - 9s 6ms/step - loss: 12.8873 - accuracy: 0.1023 - val_loss: 12.8896 - val_accuracy: 0.1029\n",
            "Epoch 12/50\n",
            "1563/1563 [==============================] - 10s 6ms/step - loss: 12.8873 - accuracy: 0.1023 - val_loss: 12.8896 - val_accuracy: 0.1029\n",
            "Epoch 13/50\n",
            "1563/1563 [==============================] - 9s 6ms/step - loss: 12.8873 - accuracy: 0.1023 - val_loss: 12.8896 - val_accuracy: 0.1029\n",
            "Epoch 14/50\n",
            "1563/1563 [==============================] - 9s 6ms/step - loss: 12.8873 - accuracy: 0.1023 - val_loss: 12.8896 - val_accuracy: 0.1029\n",
            "Epoch 15/50\n",
            "1563/1563 [==============================] - 9s 6ms/step - loss: 12.8874 - accuracy: 0.1023 - val_loss: 12.8896 - val_accuracy: 0.1029\n",
            "Epoch 16/50\n",
            "1563/1563 [==============================] - 9s 6ms/step - loss: 12.8873 - accuracy: 0.1023 - val_loss: 12.8896 - val_accuracy: 0.1029\n",
            "Epoch 17/50\n",
            "1563/1563 [==============================] - 10s 6ms/step - loss: 12.8873 - accuracy: 0.1023 - val_loss: 12.8896 - val_accuracy: 0.1029\n",
            "Epoch 18/50\n",
            "1563/1563 [==============================] - 9s 6ms/step - loss: 12.8873 - accuracy: 0.1023 - val_loss: 12.8896 - val_accuracy: 0.1029\n",
            "Epoch 19/50\n",
            "1563/1563 [==============================] - 9s 6ms/step - loss: 12.8873 - accuracy: 0.1023 - val_loss: 12.8896 - val_accuracy: 0.1029\n",
            "Epoch 20/50\n",
            "1563/1563 [==============================] - 10s 6ms/step - loss: 12.8873 - accuracy: 0.1023 - val_loss: 12.8896 - val_accuracy: 0.1029\n",
            "Epoch 21/50\n",
            "1563/1563 [==============================] - 9s 6ms/step - loss: 12.8873 - accuracy: 0.1023 - val_loss: 12.8896 - val_accuracy: 0.1029\n",
            "Epoch 22/50\n",
            "1563/1563 [==============================] - 9s 6ms/step - loss: 12.8874 - accuracy: 0.1023 - val_loss: 12.8896 - val_accuracy: 0.1029\n",
            "Epoch 23/50\n",
            "1563/1563 [==============================] - 9s 6ms/step - loss: 12.8873 - accuracy: 0.1023 - val_loss: 12.8896 - val_accuracy: 0.1029\n",
            "Epoch 24/50\n",
            "1563/1563 [==============================] - 9s 6ms/step - loss: 12.8873 - accuracy: 0.1023 - val_loss: 12.8896 - val_accuracy: 0.1029\n",
            "Epoch 25/50\n",
            "1563/1563 [==============================] - 9s 6ms/step - loss: 12.8873 - accuracy: 0.1023 - val_loss: 12.8896 - val_accuracy: 0.1029\n",
            "Epoch 26/50\n",
            "1563/1563 [==============================] - 10s 6ms/step - loss: 12.8873 - accuracy: 0.1023 - val_loss: 12.8896 - val_accuracy: 0.1029\n",
            "Epoch 27/50\n",
            "1563/1563 [==============================] - 9s 6ms/step - loss: 12.8873 - accuracy: 0.1023 - val_loss: 12.8896 - val_accuracy: 0.1029\n",
            "Epoch 28/50\n",
            "1563/1563 [==============================] - 9s 6ms/step - loss: 12.8873 - accuracy: 0.1023 - val_loss: 12.8896 - val_accuracy: 0.1029\n",
            "Epoch 29/50\n",
            "1563/1563 [==============================] - 9s 6ms/step - loss: 12.8873 - accuracy: 0.1023 - val_loss: 12.8896 - val_accuracy: 0.1029\n",
            "Epoch 30/50\n",
            "1563/1563 [==============================] - 9s 6ms/step - loss: 12.8873 - accuracy: 0.1023 - val_loss: 12.8896 - val_accuracy: 0.1029\n",
            "Epoch 31/50\n",
            "1563/1563 [==============================] - 9s 6ms/step - loss: 12.8873 - accuracy: 0.1023 - val_loss: 12.8896 - val_accuracy: 0.1029\n",
            "Epoch 32/50\n",
            "1563/1563 [==============================] - 9s 6ms/step - loss: 12.8874 - accuracy: 0.1023 - val_loss: 12.8896 - val_accuracy: 0.1029\n",
            "Epoch 33/50\n",
            "1563/1563 [==============================] - 9s 6ms/step - loss: 12.8873 - accuracy: 0.1023 - val_loss: 12.8896 - val_accuracy: 0.1029\n",
            "Epoch 34/50\n",
            "1563/1563 [==============================] - 9s 6ms/step - loss: 12.8873 - accuracy: 0.1023 - val_loss: 12.8896 - val_accuracy: 0.1029\n",
            "Epoch 35/50\n",
            "1563/1563 [==============================] - 9s 6ms/step - loss: 12.8873 - accuracy: 0.1023 - val_loss: 12.8896 - val_accuracy: 0.1029\n",
            "Epoch 36/50\n",
            "1563/1563 [==============================] - 9s 6ms/step - loss: 12.8873 - accuracy: 0.1023 - val_loss: 12.8896 - val_accuracy: 0.1029\n",
            "Epoch 37/50\n",
            "1563/1563 [==============================] - 10s 6ms/step - loss: 12.8874 - accuracy: 0.1023 - val_loss: 12.8896 - val_accuracy: 0.1029\n",
            "Epoch 38/50\n",
            "1563/1563 [==============================] - 9s 6ms/step - loss: 12.8873 - accuracy: 0.1023 - val_loss: 12.8896 - val_accuracy: 0.1029\n",
            "Epoch 39/50\n",
            "1563/1563 [==============================] - 9s 6ms/step - loss: 12.8873 - accuracy: 0.1023 - val_loss: 12.8896 - val_accuracy: 0.1029\n",
            "Epoch 40/50\n",
            "1563/1563 [==============================] - 10s 6ms/step - loss: 12.8873 - accuracy: 0.1023 - val_loss: 12.8896 - val_accuracy: 0.1029\n",
            "Epoch 41/50\n",
            "1563/1563 [==============================] - 9s 6ms/step - loss: 12.8873 - accuracy: 0.1023 - val_loss: 12.8896 - val_accuracy: 0.1029\n",
            "Epoch 42/50\n",
            "1563/1563 [==============================] - 9s 6ms/step - loss: 12.8873 - accuracy: 0.1023 - val_loss: 12.8896 - val_accuracy: 0.1029\n",
            "Epoch 43/50\n",
            "1563/1563 [==============================] - 10s 6ms/step - loss: 12.8873 - accuracy: 0.1023 - val_loss: 12.8896 - val_accuracy: 0.1029\n",
            "Epoch 44/50\n",
            "1563/1563 [==============================] - 9s 6ms/step - loss: 12.8873 - accuracy: 0.1023 - val_loss: 12.8896 - val_accuracy: 0.1029\n",
            "Epoch 45/50\n",
            "1563/1563 [==============================] - 10s 6ms/step - loss: 12.8873 - accuracy: 0.1023 - val_loss: 12.8896 - val_accuracy: 0.1029\n",
            "Epoch 46/50\n",
            "1563/1563 [==============================] - 9s 6ms/step - loss: 12.8873 - accuracy: 0.1023 - val_loss: 12.8896 - val_accuracy: 0.1029\n",
            "Epoch 47/50\n",
            "1563/1563 [==============================] - 9s 6ms/step - loss: 12.8873 - accuracy: 0.1023 - val_loss: 12.8896 - val_accuracy: 0.1029\n",
            "Epoch 48/50\n",
            "1563/1563 [==============================] - 10s 6ms/step - loss: 12.8873 - accuracy: 0.1023 - val_loss: 12.8896 - val_accuracy: 0.1029\n",
            "Epoch 49/50\n",
            "1563/1563 [==============================] - 9s 6ms/step - loss: 12.8873 - accuracy: 0.1023 - val_loss: 12.8896 - val_accuracy: 0.1029\n",
            "Epoch 50/50\n",
            "1563/1563 [==============================] - 9s 6ms/step - loss: 12.8873 - accuracy: 0.1023 - val_loss: 12.8896 - val_accuracy: 0.1029\n",
            "313/313 [==============================] - 1s 4ms/step - loss: 12.8896 - accuracy: 0.1029\n"
          ]
        }
      ]
    },
    {
      "cell_type": "code",
      "metadata": {
        "colab": {
          "base_uri": "https://localhost:8080/",
          "height": 1000
        },
        "id": "6h62dDwwniyD",
        "outputId": "f6753a8a-2dfc-4e3d-f523-f86280cab06a"
      },
      "source": [
        "print(f\"Name: NetA \\nTraining accuracy: {NetA_output[0].history['accuracy']} \\nTest accuracy: {NetA_output[0].history['val_accuracy']}\")\n",
        "\n",
        "plt.plot(NetA_output[0].history['accuracy'])\n",
        "plt.plot(NetA_output[0].history['val_accuracy'])\n",
        "plt.title('model accuracy')\n",
        "plt.ylabel('accuracy')\n",
        "plt.xlabel('epoch')\n",
        "plt.legend(['train', 'test'], loc='upper left')\n",
        "plt.show()\n",
        "\n",
        "print(f\"Name: NetB \\nTraining accuracy: {NetB_output[0].history['accuracy']} \\nTest accuracy: {NetB_output[0].history['val_accuracy']}\")\n",
        "\n",
        "plt.plot(NetB_output[0].history['accuracy'])\n",
        "plt.plot(NetB_output[0].history['val_accuracy'])\n",
        "plt.title('model accuracy')\n",
        "plt.ylabel('accuracy')\n",
        "plt.xlabel('epoch')\n",
        "plt.legend(['train', 'test'], loc='upper left')\n",
        "plt.show()\n",
        "\n",
        "print(f\"Name: NetC \\nTraining accuracy: {NetC_output[0].history['accuracy']} \\nTest accuracy: {NetC_output[0].history['val_accuracy']}\")\n",
        "\n",
        "plt.plot(NetC_output[0].history['accuracy'])\n",
        "plt.plot(NetC_output[0].history['val_accuracy'])\n",
        "plt.title('model accuracy')\n",
        "plt.ylabel('accuracy')\n",
        "plt.xlabel('epoch')\n",
        "plt.legend(['train', 'test'], loc='upper left')\n",
        "plt.show()"
      ],
      "execution_count": 13,
      "outputs": [
        {
          "output_type": "stream",
          "name": "stdout",
          "text": [
            "Name: NetA \n",
            "Training accuracy: [0.052000001072883606, 0.05077999830245972, 0.05077999830245972, 0.05077999830245972, 0.05077999830245972, 0.05077999830245972, 0.05077999830245972, 0.05077999830245972, 0.05077999830245972, 0.05077999830245972, 0.05077999830245972, 0.05077999830245972, 0.05077999830245972, 0.05077999830245972, 0.05077999830245972, 0.05077999830245972, 0.05077999830245972, 0.05077999830245972, 0.05077999830245972, 0.05077999830245972, 0.05077999830245972, 0.05077999830245972, 0.05077999830245972, 0.05077999830245972, 0.05077999830245972, 0.05077999830245972, 0.05077999830245972, 0.05077999830245972, 0.05077999830245972, 0.05077999830245972, 0.05077999830245972, 0.05077999830245972, 0.05077999830245972, 0.05077999830245972, 0.05077999830245972, 0.05077999830245972, 0.05077999830245972, 0.05077999830245972, 0.05077999830245972, 0.05077999830245972, 0.05077999830245972, 0.05077999830245972, 0.05077999830245972, 0.05077999830245972, 0.05077999830245972, 0.05077999830245972, 0.05077999830245972, 0.05077999830245972, 0.05077999830245972, 0.05077999830245972] \n",
            "Test accuracy: [0.05339999869465828, 0.05339999869465828, 0.05339999869465828, 0.05339999869465828, 0.05339999869465828, 0.05339999869465828, 0.05339999869465828, 0.05339999869465828, 0.05339999869465828, 0.05339999869465828, 0.05339999869465828, 0.05339999869465828, 0.05339999869465828, 0.05339999869465828, 0.05339999869465828, 0.05339999869465828, 0.05339999869465828, 0.05339999869465828, 0.05339999869465828, 0.05339999869465828, 0.05339999869465828, 0.05339999869465828, 0.05339999869465828, 0.05339999869465828, 0.05339999869465828, 0.05339999869465828, 0.05339999869465828, 0.05339999869465828, 0.05339999869465828, 0.05339999869465828, 0.05339999869465828, 0.05339999869465828, 0.05339999869465828, 0.05339999869465828, 0.05339999869465828, 0.05339999869465828, 0.05339999869465828, 0.05339999869465828, 0.05339999869465828, 0.05339999869465828, 0.05339999869465828, 0.05339999869465828, 0.05339999869465828, 0.05339999869465828, 0.05339999869465828, 0.05339999869465828, 0.05339999869465828, 0.05339999869465828, 0.05339999869465828, 0.05339999869465828]\n"
          ]
        },
        {
          "output_type": "display_data",
          "data": {
            "image/png": "[encoded data removed]",
            "text/plain": [
              "<Figure size 432x288 with 1 Axes>"
            ]
          },
          "metadata": {
            "needs_background": "light"
          }
        },
        {
          "output_type": "stream",
          "name": "stdout",
          "text": [
            "Name: NetB \n",
            "Training accuracy: [0.10075999796390533, 0.10000000149011612, 0.10000000149011612, 0.10000000149011612, 0.10000000149011612, 0.10000000149011612, 0.10000000149011612, 0.10000000149011612, 0.10000000149011612, 0.10000000149011612, 0.10000000149011612, 0.10000000149011612, 0.10000000149011612, 0.10000000149011612, 0.10000000149011612, 0.10000000149011612, 0.10000000149011612, 0.10000000149011612, 0.10000000149011612, 0.10000000149011612, 0.10000000149011612, 0.10000000149011612, 0.10000000149011612, 0.10000000149011612, 0.10000000149011612, 0.10000000149011612, 0.10000000149011612, 0.10000000149011612, 0.10000000149011612, 0.10000000149011612, 0.10000000149011612, 0.10000000149011612, 0.10000000149011612, 0.10000000149011612, 0.10000000149011612, 0.10000000149011612, 0.10000000149011612, 0.10000000149011612, 0.10000000149011612, 0.10000000149011612, 0.10000000149011612, 0.10000000149011612, 0.10000000149011612, 0.10000000149011612, 0.10000000149011612, 0.10000000149011612, 0.10000000149011612, 0.10000000149011612, 0.10000000149011612, 0.10000000149011612] \n",
            "Test accuracy: [0.10000000149011612, 0.10000000149011612, 0.10000000149011612, 0.10000000149011612, 0.10000000149011612, 0.10000000149011612, 0.10000000149011612, 0.10000000149011612, 0.10000000149011612, 0.10000000149011612, 0.10000000149011612, 0.10000000149011612, 0.10000000149011612, 0.10000000149011612, 0.10000000149011612, 0.10000000149011612, 0.10000000149011612, 0.10000000149011612, 0.10000000149011612, 0.10000000149011612, 0.10000000149011612, 0.10000000149011612, 0.10000000149011612, 0.10000000149011612, 0.10000000149011612, 0.10000000149011612, 0.10000000149011612, 0.10000000149011612, 0.10000000149011612, 0.10000000149011612, 0.10000000149011612, 0.10000000149011612, 0.10000000149011612, 0.10000000149011612, 0.10000000149011612, 0.10000000149011612, 0.10000000149011612, 0.10000000149011612, 0.10000000149011612, 0.10000000149011612, 0.10000000149011612, 0.10000000149011612, 0.10000000149011612, 0.10000000149011612, 0.10000000149011612, 0.10000000149011612, 0.10000000149011612, 0.10000000149011612, 0.10000000149011612, 0.10000000149011612]\n"
          ]
        },
        {
          "output_type": "display_data",
          "data": {
            "image/png": "[encoded data removed]",
            "text/plain": [
              "<Figure size 432x288 with 1 Axes>"
            ]
          },
          "metadata": {
            "needs_background": "light"
          }
        },
        {
          "output_type": "stream",
          "name": "stdout",
          "text": [
            "Name: NetC \n",
            "Training accuracy: [0.1027199998497963, 0.10227999836206436, 0.10227999836206436, 0.10227999836206436, 0.10227999836206436, 0.10227999836206436, 0.10227999836206436, 0.10227999836206436, 0.10227999836206436, 0.10227999836206436, 0.10227999836206436, 0.10227999836206436, 0.10227999836206436, 0.10227999836206436, 0.10227999836206436, 0.10227999836206436, 0.10227999836206436, 0.10227999836206436, 0.10227999836206436, 0.10227999836206436, 0.10227999836206436, 0.10227999836206436, 0.10227999836206436, 0.10227999836206436, 0.10227999836206436, 0.10227999836206436, 0.10227999836206436, 0.10227999836206436, 0.10227999836206436, 0.10227999836206436, 0.10227999836206436, 0.10227999836206436, 0.10227999836206436, 0.10227999836206436, 0.10227999836206436, 0.10227999836206436, 0.10227999836206436, 0.10227999836206436, 0.10227999836206436, 0.10227999836206436, 0.10227999836206436, 0.10227999836206436, 0.10227999836206436, 0.10227999836206436, 0.10227999836206436, 0.10227999836206436, 0.10227999836206436, 0.10227999836206436, 0.10227999836206436, 0.10227999836206436] \n",
            "Test accuracy: [0.10289999842643738, 0.10289999842643738, 0.10289999842643738, 0.10289999842643738, 0.10289999842643738, 0.10289999842643738, 0.10289999842643738, 0.10289999842643738, 0.10289999842643738, 0.10289999842643738, 0.10289999842643738, 0.10289999842643738, 0.10289999842643738, 0.10289999842643738, 0.10289999842643738, 0.10289999842643738, 0.10289999842643738, 0.10289999842643738, 0.10289999842643738, 0.10289999842643738, 0.10289999842643738, 0.10289999842643738, 0.10289999842643738, 0.10289999842643738, 0.10289999842643738, 0.10289999842643738, 0.10289999842643738, 0.10289999842643738, 0.10289999842643738, 0.10289999842643738, 0.10289999842643738, 0.10289999842643738, 0.10289999842643738, 0.10289999842643738, 0.10289999842643738, 0.10289999842643738, 0.10289999842643738, 0.10289999842643738, 0.10289999842643738, 0.10289999842643738, 0.10289999842643738, 0.10289999842643738, 0.10289999842643738, 0.10289999842643738, 0.10289999842643738, 0.10289999842643738, 0.10289999842643738, 0.10289999842643738, 0.10289999842643738, 0.10289999842643738]\n"
          ]
        },
        {
          "output_type": "display_data",
          "data": {
            "image/png": "[encoded data removed]",
            "text/plain": [
              "<Figure size 432x288 with 1 Axes>"
            ]
          },
          "metadata": {
            "needs_background": "light"
          }
        }
      ]
    }
  ]
}